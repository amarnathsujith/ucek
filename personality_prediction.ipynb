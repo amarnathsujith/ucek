{
  "nbformat": 4,
  "nbformat_minor": 0,
  "metadata": {
    "colab": {
      "provenance": [],
      "authorship_tag": "ABX9TyOCDj+wsgUj381IXvYjgELa",
      "include_colab_link": true
    },
    "kernelspec": {
      "name": "python3",
      "display_name": "Python 3"
    },
    "language_info": {
      "name": "python"
    }
  },
  "cells": [
    {
      "cell_type": "markdown",
      "metadata": {
        "id": "view-in-github",
        "colab_type": "text"
      },
      "source": [
        "<a href=\"https://colab.research.google.com/github/amarnathsujith/ucek/blob/master/personality_prediction.ipynb\" target=\"_parent\"><img src=\"https://colab.research.google.com/assets/colab-badge.svg\" alt=\"Open In Colab\"/></a>"
      ]
    },
    {
      "cell_type": "code",
      "execution_count": null,
      "metadata": {
        "colab": {
          "base_uri": "https://localhost:8080/",
          "height": 143
        },
        "id": "JCXLlbEy_LeQ",
        "outputId": "08f3f8aa-4c9d-4eb5-bb62-88dcc73bfb53"
      },
      "outputs": [
        {
          "output_type": "display_data",
          "data": {
            "text/plain": [
              "<IPython.core.display.HTML object>"
            ],
            "text/html": [
              "\n",
              "     <input type=\"file\" id=\"files-7b130281-6312-4854-b5b6-94aacdb48851\" name=\"files[]\" multiple disabled\n",
              "        style=\"border:none\" />\n",
              "     <output id=\"result-7b130281-6312-4854-b5b6-94aacdb48851\">\n",
              "      Upload widget is only available when the cell has been executed in the\n",
              "      current browser session. Please rerun this cell to enable.\n",
              "      </output>\n",
              "      <script>// Copyright 2017 Google LLC\n",
              "//\n",
              "// Licensed under the Apache License, Version 2.0 (the \"License\");\n",
              "// you may not use this file except in compliance with the License.\n",
              "// You may obtain a copy of the License at\n",
              "//\n",
              "//      http://www.apache.org/licenses/LICENSE-2.0\n",
              "//\n",
              "// Unless required by applicable law or agreed to in writing, software\n",
              "// distributed under the License is distributed on an \"AS IS\" BASIS,\n",
              "// WITHOUT WARRANTIES OR CONDITIONS OF ANY KIND, either express or implied.\n",
              "// See the License for the specific language governing permissions and\n",
              "// limitations under the License.\n",
              "\n",
              "/**\n",
              " * @fileoverview Helpers for google.colab Python module.\n",
              " */\n",
              "(function(scope) {\n",
              "function span(text, styleAttributes = {}) {\n",
              "  const element = document.createElement('span');\n",
              "  element.textContent = text;\n",
              "  for (const key of Object.keys(styleAttributes)) {\n",
              "    element.style[key] = styleAttributes[key];\n",
              "  }\n",
              "  return element;\n",
              "}\n",
              "\n",
              "// Max number of bytes which will be uploaded at a time.\n",
              "const MAX_PAYLOAD_SIZE = 100 * 1024;\n",
              "\n",
              "function _uploadFiles(inputId, outputId) {\n",
              "  const steps = uploadFilesStep(inputId, outputId);\n",
              "  const outputElement = document.getElementById(outputId);\n",
              "  // Cache steps on the outputElement to make it available for the next call\n",
              "  // to uploadFilesContinue from Python.\n",
              "  outputElement.steps = steps;\n",
              "\n",
              "  return _uploadFilesContinue(outputId);\n",
              "}\n",
              "\n",
              "// This is roughly an async generator (not supported in the browser yet),\n",
              "// where there are multiple asynchronous steps and the Python side is going\n",
              "// to poll for completion of each step.\n",
              "// This uses a Promise to block the python side on completion of each step,\n",
              "// then passes the result of the previous step as the input to the next step.\n",
              "function _uploadFilesContinue(outputId) {\n",
              "  const outputElement = document.getElementById(outputId);\n",
              "  const steps = outputElement.steps;\n",
              "\n",
              "  const next = steps.next(outputElement.lastPromiseValue);\n",
              "  return Promise.resolve(next.value.promise).then((value) => {\n",
              "    // Cache the last promise value to make it available to the next\n",
              "    // step of the generator.\n",
              "    outputElement.lastPromiseValue = value;\n",
              "    return next.value.response;\n",
              "  });\n",
              "}\n",
              "\n",
              "/**\n",
              " * Generator function which is called between each async step of the upload\n",
              " * process.\n",
              " * @param {string} inputId Element ID of the input file picker element.\n",
              " * @param {string} outputId Element ID of the output display.\n",
              " * @return {!Iterable<!Object>} Iterable of next steps.\n",
              " */\n",
              "function* uploadFilesStep(inputId, outputId) {\n",
              "  const inputElement = document.getElementById(inputId);\n",
              "  inputElement.disabled = false;\n",
              "\n",
              "  const outputElement = document.getElementById(outputId);\n",
              "  outputElement.innerHTML = '';\n",
              "\n",
              "  const pickedPromise = new Promise((resolve) => {\n",
              "    inputElement.addEventListener('change', (e) => {\n",
              "      resolve(e.target.files);\n",
              "    });\n",
              "  });\n",
              "\n",
              "  const cancel = document.createElement('button');\n",
              "  inputElement.parentElement.appendChild(cancel);\n",
              "  cancel.textContent = 'Cancel upload';\n",
              "  const cancelPromise = new Promise((resolve) => {\n",
              "    cancel.onclick = () => {\n",
              "      resolve(null);\n",
              "    };\n",
              "  });\n",
              "\n",
              "  // Wait for the user to pick the files.\n",
              "  const files = yield {\n",
              "    promise: Promise.race([pickedPromise, cancelPromise]),\n",
              "    response: {\n",
              "      action: 'starting',\n",
              "    }\n",
              "  };\n",
              "\n",
              "  cancel.remove();\n",
              "\n",
              "  // Disable the input element since further picks are not allowed.\n",
              "  inputElement.disabled = true;\n",
              "\n",
              "  if (!files) {\n",
              "    return {\n",
              "      response: {\n",
              "        action: 'complete',\n",
              "      }\n",
              "    };\n",
              "  }\n",
              "\n",
              "  for (const file of files) {\n",
              "    const li = document.createElement('li');\n",
              "    li.append(span(file.name, {fontWeight: 'bold'}));\n",
              "    li.append(span(\n",
              "        `(${file.type || 'n/a'}) - ${file.size} bytes, ` +\n",
              "        `last modified: ${\n",
              "            file.lastModifiedDate ? file.lastModifiedDate.toLocaleDateString() :\n",
              "                                    'n/a'} - `));\n",
              "    const percent = span('0% done');\n",
              "    li.appendChild(percent);\n",
              "\n",
              "    outputElement.appendChild(li);\n",
              "\n",
              "    const fileDataPromise = new Promise((resolve) => {\n",
              "      const reader = new FileReader();\n",
              "      reader.onload = (e) => {\n",
              "        resolve(e.target.result);\n",
              "      };\n",
              "      reader.readAsArrayBuffer(file);\n",
              "    });\n",
              "    // Wait for the data to be ready.\n",
              "    let fileData = yield {\n",
              "      promise: fileDataPromise,\n",
              "      response: {\n",
              "        action: 'continue',\n",
              "      }\n",
              "    };\n",
              "\n",
              "    // Use a chunked sending to avoid message size limits. See b/62115660.\n",
              "    let position = 0;\n",
              "    do {\n",
              "      const length = Math.min(fileData.byteLength - position, MAX_PAYLOAD_SIZE);\n",
              "      const chunk = new Uint8Array(fileData, position, length);\n",
              "      position += length;\n",
              "\n",
              "      const base64 = btoa(String.fromCharCode.apply(null, chunk));\n",
              "      yield {\n",
              "        response: {\n",
              "          action: 'append',\n",
              "          file: file.name,\n",
              "          data: base64,\n",
              "        },\n",
              "      };\n",
              "\n",
              "      let percentDone = fileData.byteLength === 0 ?\n",
              "          100 :\n",
              "          Math.round((position / fileData.byteLength) * 100);\n",
              "      percent.textContent = `${percentDone}% done`;\n",
              "\n",
              "    } while (position < fileData.byteLength);\n",
              "  }\n",
              "\n",
              "  // All done.\n",
              "  yield {\n",
              "    response: {\n",
              "      action: 'complete',\n",
              "    }\n",
              "  };\n",
              "}\n",
              "\n",
              "scope.google = scope.google || {};\n",
              "scope.google.colab = scope.google.colab || {};\n",
              "scope.google.colab._files = {\n",
              "  _uploadFiles,\n",
              "  _uploadFilesContinue,\n",
              "};\n",
              "})(self);\n",
              "</script> "
            ]
          },
          "metadata": {}
        },
        {
          "output_type": "stream",
          "name": "stdout",
          "text": [
            "Saving person.csv to person.csv\n"
          ]
        },
        {
          "output_type": "execute_result",
          "data": {
            "text/plain": [
              "{'person.csv': b'Gender,Age,openness,neuroticism,conscientiousness,agreeableness,extraversion,Personality (Class label)\\r\\nMale,17,7,4,7,3,2,extraverted\\r\\nMale,19,4,5,4,6,6,serious\\r\\nFemale,18,7,6,4,5,5,dependable\\r\\nFemale,22,5,6,7,4,3,extraverted\\r\\nFemale,19,7,4,6,5,4,lively\\r\\nMale,18,5,7,7,6,4,lively\\r\\nFemale,17,5,6,5,7,4,extraverted\\r\\nFemale,19,6,6,7,5,4,extraverted\\r\\nMale,18,5,7,5,6,7,dependable\\r\\nFemale,19,5,5,7,4,5,lively\\r\\nMale,19,6,7,5,6,3,serious\\r\\nMale,19,7,6,7,7,6,extraverted\\r\\nMale,19,7,6,6,5,6,lively\\r\\nFemale,19,6,7,5,5,5,dependable\\r\\nFemale,19,5,5,4,5,4,responsible\\r\\nMale,19,5,6,4,6,3,extraverted\\r\\nFemale,19,7,7,2,6,5,serious\\r\\nFemale,18,6,7,4,4,2,dependable\\r\\nFemale,19,6,6,6,4,3,responsible\\r\\nFemale,19,5,6,3,3,3,extraverted\\r\\nFemale,19,6,4,6,3,4,responsible\\r\\nMale,18,4,5,4,3,6,extraverted\\r\\nFemale,19,5,4,5,5,3,responsible\\r\\nMale,20,5,3,3,4,4,serious\\r\\nFemale,19,6,7,5,5,4,serious\\r\\nFemale,19,7,5,6,6,5,dependable\\r\\nFemale,18,6,4,5,5,4,extraverted\\r\\nFemale,19,4,6,4,7,6,extraverted\\r\\nFemale,27,6,5,6,4,5,lively\\r\\nFemale,17,7,4,7,6,5,lively\\r\\nFemale,21,6,6,3,5,4,extraverted\\r\\nMale,18,6,5,5,6,1,extraverted\\r\\nFemale,18,6,6,5,6,3,dependable\\r\\nMale,18,6,3,5,5,4,lively\\r\\nMale,18,5,7,3,6,4,serious\\r\\nFemale,19,7,6,6,6,5,lively\\r\\nFemale,18,7,6,6,7,5,responsible\\r\\nFemale,18,7,7,5,7,3,responsible\\r\\nFemale,17,7,5,7,7,2,dependable\\r\\nFemale,20,6,5,4,5,5,serious\\r\\nMale,19,3,5,3,4,2,dependable\\r\\nFemale,17,6,7,6,6,6,extraverted\\r\\nFemale,18,7,5,6,6,4,serious\\r\\nFemale,20,5,7,5,6,3,extraverted\\r\\nMale,28,6,5,7,6,4,dependable\\r\\nMale,17,5,6,5,5,3,dependable\\r\\nFemale,18,5,5,4,4,3,responsible\\r\\nFemale,20,7,6,6,4,4,serious\\r\\nFemale,18,6,4,3,6,2,lively\\r\\nFemale,19,6,4,5,6,4,lively\\r\\nFemale,19,3,4,5,5,1,extraverted\\r\\nFemale,18,4,5,4,6,1,extraverted\\r\\nMale,17,5,4,3,6,6,serious\\r\\nFemale,23,6,7,4,4,5,extraverted\\r\\nFemale,19,7,5,7,4,6,lively\\r\\nMale,18,7,5,5,4,3,lively\\r\\nFemale,17,5,5,4,6,4,extraverted\\r\\nFemale,18,6,6,5,4,4,dependable\\r\\nFemale,19,5,6,5,4,7,lively\\r\\nMale,19,5,4,6,1,3,lively\\r\\nMale,19,3,7,2,6,7,responsible\\r\\nFemale,18,7,6,5,5,5,extraverted\\r\\nFemale,19,6,5,4,5,2,responsible\\r\\nMale,19,6,6,2,5,6,dependable\\r\\nFemale,18,7,5,5,4,5,serious\\r\\nMale,19,6,6,5,5,4,serious\\r\\nFemale,17,6,5,5,4,4,responsible\\r\\nFemale,19,5,6,5,6,4,dependable\\r\\nMale,19,6,5,5,6,6,responsible\\r\\nFemale,19,5,5,5,7,3,dependable\\r\\nMale,18,6,6,4,4,3,extraverted\\r\\nMale,18,7,6,6,5,7,extraverted\\r\\nFemale,17,5,5,5,5,3,responsible\\r\\nFemale,19,5,5,4,4,4,dependable\\r\\nFemale,18,5,4,5,6,4,responsible\\r\\nFemale,18,7,4,6,6,4,serious\\r\\nFemale,17,4,6,4,4,1,extraverted\\r\\nFemale,17,7,4,5,5,5,dependable\\r\\nFemale,19,6,4,5,5,6,lively\\r\\nFemale,18,5,1,3,5,2,lively\\r\\nMale,18,3,6,3,3,2,extraverted\\r\\nFemale,18,7,5,7,5,2,lively\\r\\nMale,21,6,5,5,5,3,serious\\r\\nFemale,21,6,5,6,5,2,responsible\\r\\nFemale,18,6,4,4,6,4,extraverted\\r\\nMale,18,7,5,7,6,1,serious\\r\\nFemale,19,5,4,7,4,4,dependable\\r\\nFemale,18,4,6,2,1,4,serious\\r\\nMale,20,5,6,6,5,3,dependable\\r\\nMale,18,6,7,6,5,4,responsible\\r\\nFemale,18,6,4,5,4,6,dependable\\r\\nMale,18,6,5,3,5,3,extraverted\\r\\nFemale,18,7,5,2,4,3,extraverted\\r\\nMale,21,4,4,4,4,4,serious\\r\\nMale,21,6,6,5,6,4,lively\\r\\nMale,18,3,6,6,1,3,responsible\\r\\nFemale,18,4,4,5,7,3,dependable\\r\\nFemale,19,5,5,4,6,3,lively\\r\\nMale,19,2,5,3,6,4,serious\\r\\nFemale,19,5,5,2,2,1,responsible\\r\\nMale,18,5,3,3,6,2,responsible\\r\\nFemale,19,6,5,2,3,3,lively\\r\\nMale,27,7,5,6,7,3,dependable\\r\\nMale,17,6,5,4,7,5,dependable\\r\\nFemale,21,4,6,3,5,2,lively\\r\\nFemale,18,7,6,4,1,1,extraverted\\r\\nFemale,17,7,4,7,3,7,responsible\\r\\nFemale,19,5,1,5,1,5,lively\\r\\nFemale,18,6,5,3,2,3,extraverted\\r\\nMale,22,7,5,3,6,3,dependable\\r\\nFemale,19,5,5,6,3,2,serious\\r\\nFemale,18,7,5,7,1,5,serious\\r\\nFemale,17,7,4,4,6,4,lively\\r\\nMale,19,3,4,4,2,5,lively\\r\\nMale,18,2,6,6,7,5,extraverted\\r\\nFemale,19,6,2,6,5,5,responsible\\r\\nFemale,19,3,6,6,1,4,dependable\\r\\nMale,19,4,6,7,6,5,dependable\\r\\nFemale,28,6,4,6,5,4,responsible\\r\\nFemale,17,5,3,4,7,6,dependable\\r\\nFemale,18,5,5,5,6,5,responsible\\r\\nMale,20,7,5,7,2,2,serious\\r\\nFemale,18,4,5,5,6,3,serious\\r\\nFemale,19,4,6,6,5,6,lively\\r\\nFemale,19,5,3,6,5,2,serious\\r\\nMale,28,7,3,6,4,3,extraverted\\r\\nFemale,17,2,6,3,6,1,serious\\r\\nMale,18,5,7,7,6,2,extraverted\\r\\nMale,20,7,2,4,5,2,responsible\\r\\nFemale,18,3,1,6,5,2,responsible\\r\\nFemale,19,5,3,4,5,3,lively\\r\\nFemale,19,3,5,5,7,4,extraverted\\r\\nFemale,21,7,2,3,3,5,responsible\\r\\nFemale,18,5,5,4,5,3,serious\\r\\nFemale,17,4,3,7,6,3,responsible\\r\\nFemale,19,4,7,6,5,3,serious\\r\\nFemale,18,3,7,6,1,6,serious\\r\\nMale,22,2,6,5,4,6,extraverted\\r\\nMale,19,6,2,6,6,3,extraverted\\r\\nFemale,18,7,5,6,2,6,dependable\\r\\nFemale,17,7,7,6,6,4,dependable\\r\\nFemale,19,6,2,7,6,3,lively\\r\\nFemale,18,5,3,6,7,7,lively\\r\\nFemale,20,5,5,6,2,5,dependable\\r\\nFemale,18,4,6,5,1,6,responsible\\r\\nMale,19,3,5,7,6,5,serious\\r\\nFemale,19,5,2,5,4,4,serious\\r\\nMale,18,5,3,6,7,4,serious\\r\\nFemale,17,6,3,5,5,7,extraverted\\r\\nMale,23,5,3,4,5,5,serious\\r\\nFemale,19,3,4,7,7,7,extraverted\\r\\nFemale,18,7,5,4,1,5,dependable\\r\\nFemale,17,4,1,7,6,5,responsible\\r\\nFemale,18,3,6,3,7,6,lively\\r\\nFemale,19,6,4,3,1,7,extraverted\\r\\nFemale,19,5,2,2,2,4,dependable\\r\\nFemale,19,2,2,3,4,4,serious\\r\\nMale,18,6,3,2,3,4,responsible\\r\\nFemale,19,4,6,6,5,4,extraverted\\r\\nMale,19,5,6,4,6,2,lively\\r\\nMale,18,2,5,3,7,1,serious\\r\\nFemale,19,4,7,5,4,5,extraverted\\r\\nFemale,17,4,7,4,7,3,dependable\\r\\nFemale,19,1,1,5,5,6,dependable\\r\\nFemale,19,7,6,6,5,7,dependable\\r\\nFemale,19,5,7,7,7,4,responsible\\r\\nMale,18,6,7,5,4,1,dependable\\r\\nFemale,19,7,4,4,4,6,responsible\\r\\nMale,27,5,5,6,6,7,lively\\r\\nMale,17,2,7,2,6,2,responsible\\r\\nMale,21,6,3,4,5,1,lively\\r\\nFemale,18,6,3,5,3,2,extraverted\\r\\nFemale,17,5,4,1,5,2,extraverted\\r\\nMale,19,5,3,1,3,3,responsible\\r\\nFemale,18,5,5,2,6,4,serious\\r\\nFemale,19,5,7,2,4,2,extraverted\\r\\nFemale,19,5,4,2,1,5,lively\\r\\nMale,18,7,7,1,1,1,extraverted\\r\\nFemale,19,6,2,2,7,4,extraverted\\r\\nMale,20,5,3,1,5,5,serious\\r\\nFemale,19,5,7,1,6,6,serious\\r\\nMale,19,4,5,5,4,3,serious\\r\\nFemale,18,5,3,4,6,2,responsible\\r\\nFemale,19,6,1,5,4,5,serious\\r\\nFemale,27,5,2,3,7,5,extraverted\\r\\nFemale,23,6,7,3,7,7,lively\\r\\nMale,20,6,5,1,7,4,lively\\r\\nMale,25,5,7,1,3,6,extraverted\\r\\nFemale,18,6,7,4,4,6,serious\\r\\nMale,21,5,5,2,7,1,dependable\\r\\nMale,22,3,4,7,6,5,serious\\r\\nMale,17,4,4,7,6,5,lively\\r\\nFemale,20,4,5,3,4,1,responsible\\r\\nMale,18,6,3,1,5,7,lively\\r\\nFemale,19,5,2,3,6,1,serious\\r\\nMale,19,4,5,5,7,5,extraverted\\r\\nFemale,18,5,3,1,5,5,extraverted\\r\\nFemale,18,2,7,1,4,4,responsible\\r\\nMale,20,6,6,1,2,2,lively\\r\\nFemale,18,5,5,3,6,1,extraverted\\r\\nMale,19,5,5,2,7,4,dependable\\r\\nMale,19,4,7,4,6,4,responsible\\r\\nMale,17,6,2,1,6,6,serious\\r\\nFemale,19,4,5,2,5,5,responsible\\r\\nMale,18,7,2,1,7,6,dependable\\r\\nMale,19,3,4,3,6,3,responsible\\r\\nFemale,19,6,1,1,7,6,serious\\r\\nFemale,18,2,5,7,7,7,dependable\\r\\nMale,22,6,1,2,7,4,serious\\r\\nMale,19,5,1,1,2,3,lively\\r\\nFemale,18,5,5,6,6,5,extraverted\\r\\nFemale,17,4,4,4,7,5,serious\\r\\nFemale,19,4,1,1,3,5,dependable\\r\\nMale,18,4,3,3,7,7,serious\\r\\nFemale,20,5,1,5,7,6,lively\\r\\nFemale,23,5,5,5,7,6,extraverted\\r\\nMale,20,6,2,7,6,1,lively\\r\\nFemale,25,6,1,4,6,4,responsible\\r\\nFemale,18,4,1,2,7,5,responsible\\r\\nFemale,21,6,1,5,7,7,extraverted\\r\\nMale,22,5,4,6,5,3,serious\\r\\nMale,19,7,2,1,6,4,extraverted\\r\\nFemale,18,6,1,3,7,5,responsible\\r\\nMale,19,1,2,3,7,6,responsible\\r\\nFemale,19,4,1,4,7,4,responsible\\r\\nFemale,19,5,5,5,4,4,dependable\\r\\nMale,19,5,1,5,6,6,dependable\\r\\nFemale,19,5,1,7,6,5,dependable\\r\\nFemale,19,5,1,2,5,4,responsible\\r\\nMale,19,7,2,6,4,4,serious\\r\\nMale,19,6,7,6,6,4,extraverted\\r\\nFemale,18,4,5,5,4,6,serious\\r\\nMale,17,3,4,3,1,5,lively\\r\\nFemale,19,6,1,2,7,7,extraverted\\r\\nMale,18,7,2,4,6,5,extraverted\\r\\nFemale,19,6,5,5,4,6,dependable\\r\\nMale,19,5,3,6,6,5,lively\\r\\nMale,19,2,1,5,6,6,lively\\r\\nFemale,19,6,1,4,6,7,serious\\r\\nFemale,19,5,1,3,7,5,responsible\\r\\nMale,19,5,3,2,7,7,dependable\\r\\nFemale,19,5,1,3,5,4,responsible\\r\\nMale,19,3,4,2,4,6,extraverted\\r\\nMale,18,6,3,6,7,6,responsible\\r\\nFemale,21,6,4,5,5,5,extraverted\\r\\nFemale,22,5,1,1,7,6,serious\\r\\nFemale,17,7,3,3,1,6,dependable\\r\\nMale,20,6,1,6,4,5,extraverted\\r\\nMale,18,5,7,6,5,6,extraverted\\r\\nFemale,19,4,5,5,4,4,dependable\\r\\nMale,19,6,5,1,4,7,responsible\\r\\nMale,22,3,4,3,4,7,lively\\r\\nMale,19,5,7,2,6,5,serious\\r\\nMale,18,2,6,7,3,6,serious\\r\\nFemale,19,5,6,3,4,7,serious\\r\\nFemale,19,3,5,3,3,4,extraverted\\r\\nMale,19,5,6,5,6,1,dependable\\r\\nFemale,19,7,3,3,5,5,responsible\\r\\nMale,23,4,3,6,2,6,dependable\\r\\nFemale,20,3,4,7,6,4,lively\\r\\nMale,25,2,6,6,2,5,responsible\\r\\nMale,18,6,6,4,4,4,lively\\r\\nFemale,21,6,6,4,7,5,extraverted\\r\\nMale,22,7,7,2,5,4,serious\\r\\nMale,17,4,7,7,3,5,responsible\\r\\nFemale,25,5,5,5,4,5,responsible\\r\\nFemale,26,1,5,4,6,5,dependable\\r\\nMale,27,1,5,2,7,3,dependable\\r\\nMale,20,4,2,3,5,5,serious\\r\\nFemale,17,6,3,3,1,5,serious\\r\\nFemale,19,6,1,6,4,6,serious\\r\\nMale,19,6,3,3,6,7,lively\\r\\nMale,21,7,2,4,6,4,serious\\r\\nFemale,22,6,4,4,4,5,extraverted\\r\\nMale,23,3,3,2,3,7,responsible\\r\\nMale,21,4,4,1,6,6,lively\\r\\nFemale,21,7,1,4,5,4,dependable\\r\\nMale,20,7,4,6,3,4,serious\\r\\nFemale,20,6,5,1,3,5,lively\\r\\nFemale,18,4,4,1,5,3,dependable\\r\\nMale,18,4,4,4,6,3,lively\\r\\nMale,19,5,4,3,5,6,dependable\\r\\nMale,18,4,3,3,5,3,serious\\r\\nFemale,19,6,6,2,3,7,extraverted\\r\\nMale,20,6,6,6,3,3,dependable\\r\\nMale,21,6,2,2,7,5,lively\\r\\nFemale,21,6,4,7,5,7,serious\\r\\nMale,25,7,7,5,6,7,extraverted\\r\\nFemale,22,3,6,7,4,3,lively\\r\\nMale,17,5,2,7,5,1,lively\\r\\nMale,20,3,4,7,5,5,extraverted\\r\\nFemale,18,5,5,5,7,5,dependable\\r\\nFemale,19,5,6,7,4,5,serious\\r\\nFemale,19,3,5,6,5,5,extraverted\\r\\nMale,18,3,5,2,5,2,responsible\\r\\nFemale,18,5,4,6,7,5,serious\\r\\nFemale,20,6,4,7,5,5,serious\\r\\nMale,18,7,4,3,6,5,responsible\\r\\nMale,17,5,4,6,7,1,lively\\r\\nFemale,17,5,5,7,6,4,serious\\r\\nMale,20,6,6,5,4,5,serious\\r\\nMale,18,6,3,1,4,6,lively\\r\\nFemale,19,3,5,3,5,4,serious\\r\\nMale,19,6,6,6,4,6,responsible\\r\\nFemale,18,5,7,6,7,6,dependable\\r\\nFemale,18,2,7,5,7,4,dependable\\r\\nFemale,20,6,6,1,5,1,lively\\r\\nMale,18,6,7,3,1,5,extraverted\\r\\nFemale,20,3,6,2,5,7,extraverted\\r\\nMale,18,7,7,7,6,2,lively\\r\\nMale,18,6,6,3,6,5,responsible\\r\\nFemale,18,6,6,3,6,3,serious\\r\\nFemale,18,5,5,7,5,6,serious\\r\\nMale,21,7,6,7,5,5,responsible\\r\\nMale,21,6,7,7,4,2,dependable\\r\\nFemale,18,4,6,3,5,4,serious\\r\\nMale,18,6,5,5,4,5,extraverted\\r\\nFemale,19,6,6,6,6,4,dependable\\r\\nMale,19,2,5,5,3,5,extraverted\\r\\nFemale,18,5,4,6,4,5,lively\\r\\nMale,19,4,5,7,4,3,dependable\\r\\nMale,19,1,6,5,1,7,dependable\\r\\nFemale,20,3,7,3,2,6,lively\\r\\nMale,22,5,6,7,5,4,responsible\\r\\nMale,21,4,6,7,6,5,lively\\r\\nFemale,20,2,6,7,4,3,serious\\r\\nMale,17,3,7,6,3,5,serious\\r\\nFemale,18,3,7,6,6,7,dependable\\r\\nFemale,19,7,7,3,5,7,serious\\r\\nFemale,17,6,7,3,7,5,extraverted\\r\\nMale,20,3,7,7,5,3,extraverted\\r\\nFemale,17,4,4,5,2,3,lively\\r\\nFemale,19,7,4,1,3,6,extraverted\\r\\nMale,19,6,5,5,6,5,responsible\\r\\nFemale,21,4,5,7,7,4,extraverted\\r\\nFemale,22,7,5,7,5,5,serious\\r\\nMale,26,1,6,3,6,6,lively\\r\\nFemale,26,3,5,5,5,5,serious\\r\\nMale,24,5,4,5,7,5,serious\\r\\nMale,21,2,6,6,7,6,extraverted\\r\\nFemale,20,4,5,2,2,3,extraverted\\r\\nMale,18,6,5,4,3,7,serious\\r\\nMale,19,1,5,4,7,4,dependable\\r\\nMale,17,3,3,2,6,4,lively\\r\\nFemale,17,5,5,3,6,5,lively\\r\\nFemale,21,2,3,6,7,5,dependable\\r\\nMale,20,4,7,3,5,1,lively\\r\\nFemale,22,7,3,4,7,5,dependable\\r\\nMale,17,4,5,2,5,6,serious\\r\\nMale,20,6,4,5,7,5,extraverted\\r\\nFemale,18,1,4,2,5,2,dependable\\r\\nMale,19,5,3,4,5,2,responsible\\r\\nFemale,19,5,7,6,4,4,dependable\\r\\nMale,18,5,1,7,5,3,serious\\r\\nMale,20,7,4,7,6,5,serious\\r\\nMale,25,5,2,3,5,4,responsible\\r\\nFemale,18,6,1,5,5,5,responsible\\r\\nFemale,21,7,1,3,4,5,extraverted\\r\\nMale,22,6,2,2,4,5,dependable\\r\\nFemale,17,4,4,5,4,5,lively\\r\\nMale,20,4,3,3,4,3,serious\\r\\nFemale,18,5,4,3,4,6,serious\\r\\nMale,19,4,3,1,7,3,lively\\r\\nMale,19,7,4,4,3,6,responsible\\r\\nMale,18,7,4,3,2,6,responsible\\r\\nFemale,18,5,8,1,7,4,extraverted\\r\\nMale,20,1,7,6,3,6,lively\\r\\nMale,17,5,5,4,5,3,lively\\r\\nMale,17,6,4,7,4,6,extraverted\\r\\nFemale,18,6,6,5,3,1,dependable\\r\\nFemale,19,6,2,7,1,2,dependable\\r\\nMale,26,5,6,3,5,4,serious\\r\\nMale,24,6,2,5,6,2,extraverted\\r\\nFemale,21,1,6,6,2,6,dependable\\r\\nMale,20,4,6,6,3,4,lively\\r\\nFemale,18,4,2,6,2,3,serious\\r\\nMale,19,6,3,4,4,5,extraverted\\r\\nMale,17,6,5,6,4,5,responsible\\r\\nFemale,17,7,6,5,5,4,extraverted\\r\\nFemale,17,7,5,7,2,3,extraverted\\r\\nMale,19,5,5,7,4,5,responsible\\r\\nMale,18,7,4,5,2,5,dependable\\r\\nFemale,19,6,5,4,4,5,serious\\r\\nMale,19,6,5,7,4,5,lively\\r\\nFemale,19,6,4,2,7,6,serious\\r\\nMale,21,6,6,7,3,6,extraverted\\r\\nFemale,20,5,6,6,3,6,dependable\\r\\nFemale,20,5,5,4,4,4,responsible\\r\\nFemale,18,4,6,6,4,5,extraverted\\r\\nMale,25,6,4,4,6,6,serious\\r\\nFemale,25,7,4,5,5,5,serious\\r\\nMale,17,3,7,1,5,7,responsible\\r\\nMale,21,5,5,6,6,4,lively\\r\\nFemale,25,7,6,7,1,1,responsible\\r\\nFemale,22,5,5,4,3,5,serious\\r\\nMale,17,6,3,7,1,4,dependable\\r\\nFemale,20,5,6,6,4,4,dependable\\r\\nMale,23,1,3,5,6,4,serious\\r\\nMale,24,4,7,6,4,6,dependable\\r\\nFemale,19,6,3,2,4,6,dependable\\r\\nMale,22,4,5,6,5,5,responsible\\r\\nFemale,17,5,5,6,4,6,lively\\r\\nMale,20,1,2,7,6,4,dependable\\r\\nMale,18,3,3,6,5,3,responsible\\r\\nFemale,19,4,4,7,5,6,serious\\r\\nFemale,19,5,4,6,4,3,lively\\r\\nMale,18,2,5,7,6,7,dependable\\r\\nMale,18,7,5,6,2,6,serious\\r\\nFemale,20,6,7,5,4,3,lively\\r\\nFemale,18,3,5,3,5,6,responsible\\r\\nFemale,17,3,5,6,3,4,responsible\\r\\nMale,17,5,4,5,2,7,extraverted\\r\\nMale,20,5,5,7,2,4,serious\\r\\nFemale,18,4,5,7,4,7,lively\\r\\nFemale,19,2,4,4,3,5,serious\\r\\nFemale,19,6,4,7,5,7,lively\\r\\nMale,26,1,2,7,4,6,extraverted\\r\\nMale,27,1,6,7,4,4,lively\\r\\nMale,20,6,4,4,4,6,dependable\\r\\nMale,21,5,4,4,6,3,lively\\r\\nFemale,18,6,1,7,6,5,dependable\\r\\nMale,19,3,3,4,4,3,responsible\\r\\nFemale,20,4,5,2,6,2,responsible\\r\\nFemale,20,4,4,4,4,6,responsible\\r\\nMale,24,7,2,4,3,4,serious\\r\\nFemale,17,5,4,5,7,6,dependable\\r\\nMale,17,4,4,3,5,5,responsible\\r\\nMale,18,5,3,5,6,6,serious\\r\\nFemale,19,4,2,1,5,6,serious\\r\\nFemale,23,6,3,4,5,4,lively\\r\\nFemale,24,5,3,5,5,5,serious\\r\\nFemale,25,5,7,3,7,4,extraverted\\r\\nMale,18,4,5,6,5,5,responsible\\r\\nMale,19,5,4,5,1,3,responsible\\r\\nFemale,19,6,1,3,6,6,extraverted\\r\\nMale,17,6,6,7,6,5,extraverted\\r\\nFemale,18,4,6,3,5,4,serious\\r\\nMale,22,7,4,2,6,4,dependable\\r\\nMale,23,3,6,5,4,3,lively\\r\\nFemale,21,4,2,3,5,6,responsible\\r\\nFemale,20,4,4,6,4,3,lively\\r\\nMale,5,4,5,5,2,2,extraverted\\r\\nMale,25,5,5,5,4,6,extraverted\\r\\nFemale,26,6,2,6,3,2,dependable\\r\\nFemale,26,7,4,7,5,5,responsible\\r\\nFemale,18,3,3,6,3,5,extraverted\\r\\nMale,19,2,4,7,6,6,responsible\\r\\nMale,20,2,2,4,7,3,extraverted\\r\\nMale,23,3,7,3,3,7,extraverted\\r\\nFemale,21,2,5,6,1,5,serious\\r\\nMale,18,5,4,5,5,1,lively\\r\\nFemale,19,2,5,4,6,6,serious\\r\\nMale,17,3,6,6,1,6,serious\\r\\nFemale,20,3,4,5,1,4,extraverted\\r\\nFemale,25,4,6,4,5,6,dependable\\r\\nMale,24,5,6,3,3,4,responsible\\r\\nMale,26,5,6,6,2,3,lively\\r\\nFemale,21,3,5,7,4,6,extraverted\\r\\nFemale,5,2,5,3,2,7,responsible\\r\\nMale,23,5,7,1,3,4,extraverted\\r\\nFemale,20,6,5,6,2,7,dependable\\r\\nMale,19,6,4,5,4,3,dependable\\r\\nFemale,24,2,6,6,5,6,serious\\r\\nMale,24,4,5,5,6,4,responsible\\r\\nMale,27,6,6,5,3,6,dependable\\r\\nMale,28,1,5,6,2,5,serious\\r\\nFemale,20,3,5,5,5,5,dependable\\r\\nFemale,21,4,4,5,6,5,responsible\\r\\nFemale,23,5,2,7,7,6,responsible\\r\\nMale,24,5,5,5,2,6,serious\\r\\nFemale,25,3,2,4,4,3,lively\\r\\nMale,26,6,4,6,6,5,extraverted\\r\\nMale,27,7,5,5,1,5,dependable\\r\\nMale,19,4,6,4,2,7,extraverted\\r\\nFemale,18,3,5,6,4,7,serious\\r\\nFemale,20,4,5,5,2,5,serious\\r\\nFemale,21,1,4,6,7,5,responsible\\r\\nMale,21,3,4,5,1,4,serious\\r\\nMale,21,3,4,5,2,7,serious\\r\\nMale,18,3,3,5,7,4,extraverted\\r\\nFemale,23,5,1,1,5,5,extraverted\\r\\nFemale,24,3,5,4,1,7,responsible\\r\\nMale,23,3,6,6,1,6,lively\\r\\nMale,25,7,2,5,5,6,responsible\\r\\nMale,19,3,3,3,5,4,dependable\\r\\nFemale,19,2,2,5,4,4,extraverted\\r\\nMale,20,4,4,4,4,6,dependable\\r\\nFemale,21,5,4,2,5,6,dependable\\r\\nFemale,22,5,5,7,7,4,dependable\\r\\nFemale,18,3,2,7,4,5,dependable\\r\\nMale,20,6,4,5,7,5,extraverted\\r\\nMale,23,7,5,4,6,4,lively\\r\\nFemale,24,7,6,4,3,5,lively\\r\\nFemale,26,4,7,5,7,3,extraverted\\r\\nMale,20,5,3,6,7,6,responsible\\r\\nMale,18,6,2,7,6,6,dependable\\r\\nMale,19,2,2,6,4,6,extraverted\\r\\nFemale,21,5,3,4,5,6,dependable\\r\\nMale,21,1,1,3,6,6,serious\\r\\nMale,17,6,5,5,5,5,responsible\\r\\nFemale,18,7,6,6,6,4,serious\\r\\nFemale,23,5,2,7,6,6,extraverted\\r\\nFemale,24,6,3,6,4,5,extraverted\\r\\nMale,23,5,2,3,4,6,serious\\r\\nMale,25,7,4,6,5,6,serious\\r\\nFemale,19,5,4,6,4,6,lively\\r\\nFemale,17,2,5,7,6,4,responsible\\r\\nFemale,20,3,2,7,6,4,dependable\\r\\nMale,25,4,4,7,6,4,serious\\r\\nMale,20,5,2,4,5,7,lively\\r\\nMale,21,7,4,1,3,4,dependable\\r\\nMale,22,8,4,2,2,5,lively\\r\\nFemale,20,7,7,7,7,2,extraverted\\r\\nMale,19,4,6,4,6,6,dependable\\r\\nMale,20,7,6,4,5,5,dependable\\r\\nMale,22,7,6,7,4,3,serious\\r\\nFemale,19,4,4,5,5,4,lively\\r\\nMale,18,5,6,6,6,6,lively\\r\\nFemale,17,5,6,5,7,4,extraverted\\r\\nMale,17,6,6,7,5,7,serious\\r\\nMale,21,5,7,5,6,7,lively\\r\\nFemale,19,5,5,5,5,5,lively\\r\\nMale,22,6,7,5,6,3,serious\\r\\nFemale,19,7,6,7,7,6,extraverted\\r\\nMale,21,6,6,6,6,6,serious\\r\\nMale,22,6,7,5,5,5,dependable\\r\\nMale,21,5,5,5,5,5,extraverted\\r\\nMale,17,4,6,7,3,3,extraverted\\r\\nMale,19,7,7,2,6,5,serious\\r\\nFemale,21,6,7,4,4,2,responsible\\r\\nMale,19,5,6,6,4,3,responsible\\r\\nFemale,21,4,6,3,3,3,extraverted\\r\\nMale,19,6,4,6,3,6,responsible\\r\\nMale,22,4,5,4,3,6,serious\\r\\nFemale,21,5,5,5,5,5,responsible\\r\\nMale,17,5,3,3,4,4,extraverted\\r\\nMale,19,7,7,5,5,7,serious\\r\\nMale,19,7,5,6,6,5,serious\\r\\nFemale,18,6,7,5,5,7,responsible\\r\\nFemale,22,4,6,4,6,6,extraverted\\r\\nFemale,26,6,5,6,4,5,lively\\r\\nFemale,20,7,4,7,6,5,dependable\\r\\nFemale,21,6,6,3,5,4,extraverted\\r\\nMale,23,6,5,5,6,3,extraverted\\r\\nMale,18,6,6,5,6,6,dependable\\r\\nFemale,24,6,3,5,5,4,lively\\r\\nMale,18,5,7,3,6,4,extraverted\\r\\nFemale,22,7,6,6,6,5,lively\\r\\nMale,18,1,6,6,7,5,responsible\\r\\nFemale,20,7,7,5,7,3,dependable\\r\\nFemale,21,7,3,7,7,3,dependable\\r\\nFemale,18,6,5,4,5,5,serious\\r\\nMale,23,3,5,5,4,2,responsible\\r\\nFemale,25,6,7,6,6,6,extraverted\\r\\nFemale,18,7,5,6,6,4,lively\\r\\nFemale,20,5,5,5,6,2,extraverted\\r\\nMale,23,6,5,7,6,4,dependable\\r\\nMale,21,5,6,5,5,3,serious\\r\\nFemale,22,5,5,4,4,3,responsible\\r\\nFemale,20,7,5,5,5,5,serious\\r\\nMale,18,6,4,3,6,2,lively\\r\\nMale,17,6,4,7,6,4,lively\\r\\nFemale,19,3,4,5,5,1,responsible\\r\\nFemale,18,4,4,4,6,1,extraverted\\r\\nMale,17,5,4,3,6,6,serious\\r\\nMale,23,7,7,4,4,5,extraverted\\r\\nFemale,19,7,6,7,6,6,lively\\r\\nMale,18,7,5,6,4,3,serious\\r\\nFemale,17,4,5,4,8,4,extraverted\\r\\nMale,22,6,6,5,4,4,dependable\\r\\nFemale,19,7,8,5,4,7,lively\\r\\nMale,19,5,4,3,6,3,lively\\r\\nMale,19,3,7,2,6,5,serious\\r\\nMale,23,7,6,5,5,5,extraverted\\r\\nFemale,19,7,7,4,5,2,responsible\\r\\nMale,19,6,6,4,8,6,dependable\\r\\nFemale,18,7,5,5,4,4,lively\\r\\nFemale,24,6,6,5,5,4,serious\\r\\nFemale,17,7,6,5,4,4,responsible\\r\\nFemale,19,5,6,6,7,4,dependable\\r\\nMale,19,6,5,5,6,4,lively\\r\\nMale,22,5,5,5,7,3,dependable\\r\\nMale,18,7,8,4,4,3,extraverted\\r\\nMale,18,7,6,8,5,7,extraverted\\r\\nFemale,17,5,5,5,5,6,lively\\r\\nMale,24,5,5,4,4,4,dependable\\r\\nFemale,18,6,6,5,6,4,responsible\\r\\nFemale,18,7,4,7,7,4,serious\\r\\nFemale,17,4,6,4,4,7,extraverted\\r\\nMale,24,7,4,5,5,5,dependable\\r\\nFemale,19,5,5,5,5,6,lively\\r\\nFemale,18,5,1,6,6,2,lively\\r\\nMale,18,3,6,3,3,7,responsible\\r\\nMale,22,7,5,7,5,2,lively\\r\\nMale,21,8,8,5,5,3,serious\\r\\nFemale,21,6,5,4,7,2,responsible\\r\\nFemale,18,6,4,4,6,5,lively\\r\\nFemale,22,7,5,7,6,1,serious\\r\\nFemale,19,6,3,7,4,4,dependable\\r\\nFemale,18,4,6,4,4,4,serious\\r\\nMale,20,5,6,6,5,4,lively\\r\\nFemale,20,6,7,6,5,4,responsible\\r\\nFemale,18,5,5,5,4,6,dependable\\r\\nMale,18,6,5,4,4,3,extraverted\\r\\nFemale,18,7,5,2,4,6,dependable\\r\\nFemale,17,4,4,4,4,4,serious\\r\\nMale,21,5,8,5,6,4,lively\\r\\nMale,18,3,6,7,4,3,responsible\\r\\nFemale,18,4,4,5,7,6,extraverted\\r\\nMale,23,5,5,4,6,3,lively\\r\\nMale,19,6,3,3,6,4,serious\\r\\nMale,23,5,5,2,2,1,responsible\\r\\nMale,18,6,6,3,6,2,responsible\\r\\nFemale,19,6,5,4,5,3,lively\\r\\nMale,27,7,5,6,7,5,serious\\r\\nFemale,19,6,5,4,7,5,dependable\\r\\nFemale,21,5,5,3,5,2,lively\\r\\nFemale,18,7,6,5,5,1,extraverted\\r\\nFemale,17,7,4,7,3,5,serious\\r\\nMale,22,5,1,5,1,5,lively\\r\\nFemale,18,5,7,3,2,3,extraverted\\r\\nMale,22,7,5,6,7,3,dependable\\r\\nFemale,19,5,5,6,3,4,responsible\\r\\nMale,23,7,5,7,1,5,serious\\r\\nFemale,17,6,6,4,6,4,lively\\r\\nMale,19,3,4,5,5,5,lively\\r\\nMale,18,2,6,6,7,7,dependable\\r\\nMale,23,6,2,6,5,5,responsible\\r\\nFemale,19,5,5,5,1,4,dependable\\r\\nMale,19,4,6,5,7,5,dependable\\r\\nFemale,28,6,4,6,5,6,lively\\r\\nMale,23,5,3,4,7,6,dependable\\r\\nFemale,18,4,6,5,6,5,responsible\\r\\nMale,20,7,5,5,5,2,serious\\r\\nFemale,18,4,5,5,6,4,dependable\\r\\nMale,22,4,6,6,5,6,lively\\r\\nFemale,19,4,4,6,5,2,serious\\r\\nMale,28,7,3,5,5,3,extraverted\\r\\nFemale,17,2,6,3,6,3,lively\\r\\nFemale,22,5,7,7,6,2,extraverted\\r\\nMale,20,6,6,4,5,2,responsible\\r\\nFemale,18,3,1,5,3,2,responsible\\r\\nFemale,19,5,3,4,5,4,dependable\\r\\nMale,22,3,5,5,7,4,extraverted\\r\\nFemale,21,4,6,3,3,5,responsible\\r\\nFemale,18,5,5,5,6,3,serious\\r\\nFemale,17,4,3,7,6,5,lively\\r\\nMale,20,4,7,6,5,3,serious\\r\\nFemale,18,5,5,6,1,6,serious\\r\\nMale,22,2,6,7,2,6,extraverted\\r\\nMale,19,6,2,6,6,4,serious\\r\\nMale,21,7,5,6,2,6,dependable\\r\\nFemale,17,6,6,6,6,4,dependable\\r\\nFemale,19,6,2,6,7,3,lively\\r\\nFemale,18,5,3,6,7,5,extraverted\\r\\nMale,19,5,5,6,2,5,dependable\\r\\nFemale,18,6,5,5,1,6,responsible\\r\\nMale,19,3,5,6,8,5,serious\\r\\nFemale,19,5,2,3,4,3,lively\\r\\nFemale,22,5,3,6,7,4,serious\\r\\nFemale,17,7,4,5,5,7,extraverted\\r\\nMale,23,5,3,6,6,5,serious\\r\\nFemale,19,3,4,7,7,3,serious\\r\\nMale,20,7,5,4,1,5,dependable\\r\\nFemale,17,4,1,6,5,5,responsible\\r\\nFemale,18,3,6,3,7,4,serious\\r\\nMale,21,6,4,3,1,7,extraverted\\r\\nFemale,19,7,3,2,2,4,dependable\\r\\nFemale,19,2,2,5,5,4,serious\\r\\nMale,18,6,3,2,3,5,dependable\\r\\nMale,22,4,6,6,5,4,extraverted\\r\\nMale,19,6,5,4,6,2,lively\\r\\nMale,18,2,5,4,6,1,serious\\r\\nFemale,19,4,7,5,4,4,responsible\\r\\nMale,21,4,7,4,7,3,dependable\\r\\nFemale,19,5,5,5,5,6,lively\\r\\nFemale,19,7,6,7,4,7,dependable\\r\\nFemale,19,5,7,7,7,6,serious\\r\\nFemale,22,6,7,5,4,1,dependable\\r\\nFemale,19,6,6,4,4,6,responsible\\r\\nMale,27,5,5,7,5,7,lively\\r\\nMale,17,2,7,2,6,4,dependable\\r\\nFemale,20,6,3,4,5,1,lively\\r\\nFemale,18,5,5,5,3,2,extraverted\\r\\nFemale,17,5,4,4,4,2,extraverted\\r\\nMale,19,5,3,1,3,5,lively\\r\\nMale,21,5,5,2,6,4,serious\\r\\nFemale,19,6,6,2,4,2,extraverted\\r\\nFemale,19,5,4,4,4,5,lively\\r\\nMale,18,7,7,1,1,4,dependable\\r\\nMale,22,6,2,2,7,4,extraverted\\r\\nMale,20,6,6,1,5,5,serious\\r\\nFemale,19,5,7,5,5,6,serious\\r\\nMale,19,4,5,5,4,5,dependable\\r\\nMale,21,5,3,4,6,2,responsible\\r\\nFemale,19,5,5,4,4,5,serious\\r\\nFemale,27,5,2,5,5,5,extraverted\\r\\nFemale,23,6,7,3,7,6,serious\\r\\nFemale,18,6,5,1,7,4,lively\\r\\nMale,25,5,5,1,3,6,extraverted\\r\\nFemale,18,6,7,5,5,6,serious\\r\\nMale,21,5,6,2,7,4,responsible\\r\\nFemale,19,3,4,7,6,5,serious\\r\\nMale,17,5,5,7,6,5,lively\\r\\nFemale,20,4,5,6,6,1,responsible\\r\\nMale,18,6,3,1,5,5,dependable\\r\\nMale,22,5,2,3,6,1,serious\\r\\nMale,19,5,6,5,7,5,extraverted\\r\\nFemale,18,5,5,7,6,5,extraverted\\r\\n'}"
            ]
          },
          "metadata": {},
          "execution_count": 3
        }
      ],
      "source": [
        "import pandas as pd\n",
        "from google.colab import files\n",
        "files.upload()"
      ]
    },
    {
      "cell_type": "code",
      "source": [
        "person=pd.read_csv('person.csv')"
      ],
      "metadata": {
        "id": "fYFu_qwN_rss"
      },
      "execution_count": null,
      "outputs": []
    },
    {
      "cell_type": "code",
      "source": [
        "person.shape"
      ],
      "metadata": {
        "id": "AsYZSMn1pf28"
      },
      "execution_count": null,
      "outputs": []
    },
    {
      "cell_type": "code",
      "source": [
        "person.head()\n",
        "\n"
      ],
      "metadata": {
        "colab": {
          "base_uri": "https://localhost:8080/",
          "height": 268
        },
        "id": "AhbHLL1F__2B",
        "outputId": "6b7ac6d3-ab27-4ad5-ea26-fd3dda2b5bf7"
      },
      "execution_count": null,
      "outputs": [
        {
          "output_type": "execute_result",
          "data": {
            "text/plain": [
              "   Gender  Age  openness  neuroticism  conscientiousness  agreeableness  \\\n",
              "0    Male   17         7            4                  7              3   \n",
              "1    Male   19         4            5                  4              6   \n",
              "2  Female   18         7            6                  4              5   \n",
              "3  Female   22         5            6                  7              4   \n",
              "4  Female   19         7            4                  6              5   \n",
              "\n",
              "   extraversion Personality (Class label)  \n",
              "0             2               extraverted  \n",
              "1             6                   serious  \n",
              "2             5                dependable  \n",
              "3             3               extraverted  \n",
              "4             4                    lively  "
            ],
            "text/html": [
              "\n",
              "  <div id=\"df-fe725461-700e-47ba-8fef-f7f5a8250892\">\n",
              "    <div class=\"colab-df-container\">\n",
              "      <div>\n",
              "<style scoped>\n",
              "    .dataframe tbody tr th:only-of-type {\n",
              "        vertical-align: middle;\n",
              "    }\n",
              "\n",
              "    .dataframe tbody tr th {\n",
              "        vertical-align: top;\n",
              "    }\n",
              "\n",
              "    .dataframe thead th {\n",
              "        text-align: right;\n",
              "    }\n",
              "</style>\n",
              "<table border=\"1\" class=\"dataframe\">\n",
              "  <thead>\n",
              "    <tr style=\"text-align: right;\">\n",
              "      <th></th>\n",
              "      <th>Gender</th>\n",
              "      <th>Age</th>\n",
              "      <th>openness</th>\n",
              "      <th>neuroticism</th>\n",
              "      <th>conscientiousness</th>\n",
              "      <th>agreeableness</th>\n",
              "      <th>extraversion</th>\n",
              "      <th>Personality (Class label)</th>\n",
              "    </tr>\n",
              "  </thead>\n",
              "  <tbody>\n",
              "    <tr>\n",
              "      <th>0</th>\n",
              "      <td>Male</td>\n",
              "      <td>17</td>\n",
              "      <td>7</td>\n",
              "      <td>4</td>\n",
              "      <td>7</td>\n",
              "      <td>3</td>\n",
              "      <td>2</td>\n",
              "      <td>extraverted</td>\n",
              "    </tr>\n",
              "    <tr>\n",
              "      <th>1</th>\n",
              "      <td>Male</td>\n",
              "      <td>19</td>\n",
              "      <td>4</td>\n",
              "      <td>5</td>\n",
              "      <td>4</td>\n",
              "      <td>6</td>\n",
              "      <td>6</td>\n",
              "      <td>serious</td>\n",
              "    </tr>\n",
              "    <tr>\n",
              "      <th>2</th>\n",
              "      <td>Female</td>\n",
              "      <td>18</td>\n",
              "      <td>7</td>\n",
              "      <td>6</td>\n",
              "      <td>4</td>\n",
              "      <td>5</td>\n",
              "      <td>5</td>\n",
              "      <td>dependable</td>\n",
              "    </tr>\n",
              "    <tr>\n",
              "      <th>3</th>\n",
              "      <td>Female</td>\n",
              "      <td>22</td>\n",
              "      <td>5</td>\n",
              "      <td>6</td>\n",
              "      <td>7</td>\n",
              "      <td>4</td>\n",
              "      <td>3</td>\n",
              "      <td>extraverted</td>\n",
              "    </tr>\n",
              "    <tr>\n",
              "      <th>4</th>\n",
              "      <td>Female</td>\n",
              "      <td>19</td>\n",
              "      <td>7</td>\n",
              "      <td>4</td>\n",
              "      <td>6</td>\n",
              "      <td>5</td>\n",
              "      <td>4</td>\n",
              "      <td>lively</td>\n",
              "    </tr>\n",
              "  </tbody>\n",
              "</table>\n",
              "</div>\n",
              "      <button class=\"colab-df-convert\" onclick=\"convertToInteractive('df-fe725461-700e-47ba-8fef-f7f5a8250892')\"\n",
              "              title=\"Convert this dataframe to an interactive table.\"\n",
              "              style=\"display:none;\">\n",
              "        \n",
              "  <svg xmlns=\"http://www.w3.org/2000/svg\" height=\"24px\"viewBox=\"0 0 24 24\"\n",
              "       width=\"24px\">\n",
              "    <path d=\"M0 0h24v24H0V0z\" fill=\"none\"/>\n",
              "    <path d=\"M18.56 5.44l.94 2.06.94-2.06 2.06-.94-2.06-.94-.94-2.06-.94 2.06-2.06.94zm-11 1L8.5 8.5l.94-2.06 2.06-.94-2.06-.94L8.5 2.5l-.94 2.06-2.06.94zm10 10l.94 2.06.94-2.06 2.06-.94-2.06-.94-.94-2.06-.94 2.06-2.06.94z\"/><path d=\"M17.41 7.96l-1.37-1.37c-.4-.4-.92-.59-1.43-.59-.52 0-1.04.2-1.43.59L10.3 9.45l-7.72 7.72c-.78.78-.78 2.05 0 2.83L4 21.41c.39.39.9.59 1.41.59.51 0 1.02-.2 1.41-.59l7.78-7.78 2.81-2.81c.8-.78.8-2.07 0-2.86zM5.41 20L4 18.59l7.72-7.72 1.47 1.35L5.41 20z\"/>\n",
              "  </svg>\n",
              "      </button>\n",
              "      \n",
              "  <style>\n",
              "    .colab-df-container {\n",
              "      display:flex;\n",
              "      flex-wrap:wrap;\n",
              "      gap: 12px;\n",
              "    }\n",
              "\n",
              "    .colab-df-convert {\n",
              "      background-color: #E8F0FE;\n",
              "      border: none;\n",
              "      border-radius: 50%;\n",
              "      cursor: pointer;\n",
              "      display: none;\n",
              "      fill: #1967D2;\n",
              "      height: 32px;\n",
              "      padding: 0 0 0 0;\n",
              "      width: 32px;\n",
              "    }\n",
              "\n",
              "    .colab-df-convert:hover {\n",
              "      background-color: #E2EBFA;\n",
              "      box-shadow: 0px 1px 2px rgba(60, 64, 67, 0.3), 0px 1px 3px 1px rgba(60, 64, 67, 0.15);\n",
              "      fill: #174EA6;\n",
              "    }\n",
              "\n",
              "    [theme=dark] .colab-df-convert {\n",
              "      background-color: #3B4455;\n",
              "      fill: #D2E3FC;\n",
              "    }\n",
              "\n",
              "    [theme=dark] .colab-df-convert:hover {\n",
              "      background-color: #434B5C;\n",
              "      box-shadow: 0px 1px 3px 1px rgba(0, 0, 0, 0.15);\n",
              "      filter: drop-shadow(0px 1px 2px rgba(0, 0, 0, 0.3));\n",
              "      fill: #FFFFFF;\n",
              "    }\n",
              "  </style>\n",
              "\n",
              "      <script>\n",
              "        const buttonEl =\n",
              "          document.querySelector('#df-fe725461-700e-47ba-8fef-f7f5a8250892 button.colab-df-convert');\n",
              "        buttonEl.style.display =\n",
              "          google.colab.kernel.accessAllowed ? 'block' : 'none';\n",
              "\n",
              "        async function convertToInteractive(key) {\n",
              "          const element = document.querySelector('#df-fe725461-700e-47ba-8fef-f7f5a8250892');\n",
              "          const dataTable =\n",
              "            await google.colab.kernel.invokeFunction('convertToInteractive',\n",
              "                                                     [key], {});\n",
              "          if (!dataTable) return;\n",
              "\n",
              "          const docLinkHtml = 'Like what you see? Visit the ' +\n",
              "            '<a target=\"_blank\" href=https://colab.research.google.com/notebooks/data_table.ipynb>data table notebook</a>'\n",
              "            + ' to learn more about interactive tables.';\n",
              "          element.innerHTML = '';\n",
              "          dataTable['output_type'] = 'display_data';\n",
              "          await google.colab.output.renderOutput(dataTable, element);\n",
              "          const docLink = document.createElement('div');\n",
              "          docLink.innerHTML = docLinkHtml;\n",
              "          element.appendChild(docLink);\n",
              "        }\n",
              "      </script>\n",
              "    </div>\n",
              "  </div>\n",
              "  "
            ]
          },
          "metadata": {},
          "execution_count": 6
        }
      ]
    },
    {
      "cell_type": "code",
      "source": [
        "person.tail()"
      ],
      "metadata": {
        "colab": {
          "base_uri": "https://localhost:8080/",
          "height": 285
        },
        "id": "QnxD881lppuG",
        "outputId": "9676dd4f-2d64-4ffa-e16f-4ec586c39477"
      },
      "execution_count": null,
      "outputs": [
        {
          "output_type": "execute_result",
          "data": {
            "text/plain": [
              "     Gender  Age  openness  neuroticism  conscientiousness  agreeableness  \\\n",
              "704  Female   20         4            5                  6              6   \n",
              "705    Male   18         6            3                  1              5   \n",
              "706    Male   22         5            2                  3              6   \n",
              "707    Male   19         5            6                  5              7   \n",
              "708  Female   18         5            5                  7              6   \n",
              "\n",
              "     extraversion Personality (Class label)  \n",
              "704             1               responsible  \n",
              "705             5                dependable  \n",
              "706             1                   serious  \n",
              "707             5               extraverted  \n",
              "708             5               extraverted  "
            ],
            "text/html": [
              "\n",
              "  <div id=\"df-182f1786-24be-491c-ba45-e8a065154d8a\">\n",
              "    <div class=\"colab-df-container\">\n",
              "      <div>\n",
              "<style scoped>\n",
              "    .dataframe tbody tr th:only-of-type {\n",
              "        vertical-align: middle;\n",
              "    }\n",
              "\n",
              "    .dataframe tbody tr th {\n",
              "        vertical-align: top;\n",
              "    }\n",
              "\n",
              "    .dataframe thead th {\n",
              "        text-align: right;\n",
              "    }\n",
              "</style>\n",
              "<table border=\"1\" class=\"dataframe\">\n",
              "  <thead>\n",
              "    <tr style=\"text-align: right;\">\n",
              "      <th></th>\n",
              "      <th>Gender</th>\n",
              "      <th>Age</th>\n",
              "      <th>openness</th>\n",
              "      <th>neuroticism</th>\n",
              "      <th>conscientiousness</th>\n",
              "      <th>agreeableness</th>\n",
              "      <th>extraversion</th>\n",
              "      <th>Personality (Class label)</th>\n",
              "    </tr>\n",
              "  </thead>\n",
              "  <tbody>\n",
              "    <tr>\n",
              "      <th>704</th>\n",
              "      <td>Female</td>\n",
              "      <td>20</td>\n",
              "      <td>4</td>\n",
              "      <td>5</td>\n",
              "      <td>6</td>\n",
              "      <td>6</td>\n",
              "      <td>1</td>\n",
              "      <td>responsible</td>\n",
              "    </tr>\n",
              "    <tr>\n",
              "      <th>705</th>\n",
              "      <td>Male</td>\n",
              "      <td>18</td>\n",
              "      <td>6</td>\n",
              "      <td>3</td>\n",
              "      <td>1</td>\n",
              "      <td>5</td>\n",
              "      <td>5</td>\n",
              "      <td>dependable</td>\n",
              "    </tr>\n",
              "    <tr>\n",
              "      <th>706</th>\n",
              "      <td>Male</td>\n",
              "      <td>22</td>\n",
              "      <td>5</td>\n",
              "      <td>2</td>\n",
              "      <td>3</td>\n",
              "      <td>6</td>\n",
              "      <td>1</td>\n",
              "      <td>serious</td>\n",
              "    </tr>\n",
              "    <tr>\n",
              "      <th>707</th>\n",
              "      <td>Male</td>\n",
              "      <td>19</td>\n",
              "      <td>5</td>\n",
              "      <td>6</td>\n",
              "      <td>5</td>\n",
              "      <td>7</td>\n",
              "      <td>5</td>\n",
              "      <td>extraverted</td>\n",
              "    </tr>\n",
              "    <tr>\n",
              "      <th>708</th>\n",
              "      <td>Female</td>\n",
              "      <td>18</td>\n",
              "      <td>5</td>\n",
              "      <td>5</td>\n",
              "      <td>7</td>\n",
              "      <td>6</td>\n",
              "      <td>5</td>\n",
              "      <td>extraverted</td>\n",
              "    </tr>\n",
              "  </tbody>\n",
              "</table>\n",
              "</div>\n",
              "      <button class=\"colab-df-convert\" onclick=\"convertToInteractive('df-182f1786-24be-491c-ba45-e8a065154d8a')\"\n",
              "              title=\"Convert this dataframe to an interactive table.\"\n",
              "              style=\"display:none;\">\n",
              "        \n",
              "  <svg xmlns=\"http://www.w3.org/2000/svg\" height=\"24px\"viewBox=\"0 0 24 24\"\n",
              "       width=\"24px\">\n",
              "    <path d=\"M0 0h24v24H0V0z\" fill=\"none\"/>\n",
              "    <path d=\"M18.56 5.44l.94 2.06.94-2.06 2.06-.94-2.06-.94-.94-2.06-.94 2.06-2.06.94zm-11 1L8.5 8.5l.94-2.06 2.06-.94-2.06-.94L8.5 2.5l-.94 2.06-2.06.94zm10 10l.94 2.06.94-2.06 2.06-.94-2.06-.94-.94-2.06-.94 2.06-2.06.94z\"/><path d=\"M17.41 7.96l-1.37-1.37c-.4-.4-.92-.59-1.43-.59-.52 0-1.04.2-1.43.59L10.3 9.45l-7.72 7.72c-.78.78-.78 2.05 0 2.83L4 21.41c.39.39.9.59 1.41.59.51 0 1.02-.2 1.41-.59l7.78-7.78 2.81-2.81c.8-.78.8-2.07 0-2.86zM5.41 20L4 18.59l7.72-7.72 1.47 1.35L5.41 20z\"/>\n",
              "  </svg>\n",
              "      </button>\n",
              "      \n",
              "  <style>\n",
              "    .colab-df-container {\n",
              "      display:flex;\n",
              "      flex-wrap:wrap;\n",
              "      gap: 12px;\n",
              "    }\n",
              "\n",
              "    .colab-df-convert {\n",
              "      background-color: #E8F0FE;\n",
              "      border: none;\n",
              "      border-radius: 50%;\n",
              "      cursor: pointer;\n",
              "      display: none;\n",
              "      fill: #1967D2;\n",
              "      height: 32px;\n",
              "      padding: 0 0 0 0;\n",
              "      width: 32px;\n",
              "    }\n",
              "\n",
              "    .colab-df-convert:hover {\n",
              "      background-color: #E2EBFA;\n",
              "      box-shadow: 0px 1px 2px rgba(60, 64, 67, 0.3), 0px 1px 3px 1px rgba(60, 64, 67, 0.15);\n",
              "      fill: #174EA6;\n",
              "    }\n",
              "\n",
              "    [theme=dark] .colab-df-convert {\n",
              "      background-color: #3B4455;\n",
              "      fill: #D2E3FC;\n",
              "    }\n",
              "\n",
              "    [theme=dark] .colab-df-convert:hover {\n",
              "      background-color: #434B5C;\n",
              "      box-shadow: 0px 1px 3px 1px rgba(0, 0, 0, 0.15);\n",
              "      filter: drop-shadow(0px 1px 2px rgba(0, 0, 0, 0.3));\n",
              "      fill: #FFFFFF;\n",
              "    }\n",
              "  </style>\n",
              "\n",
              "      <script>\n",
              "        const buttonEl =\n",
              "          document.querySelector('#df-182f1786-24be-491c-ba45-e8a065154d8a button.colab-df-convert');\n",
              "        buttonEl.style.display =\n",
              "          google.colab.kernel.accessAllowed ? 'block' : 'none';\n",
              "\n",
              "        async function convertToInteractive(key) {\n",
              "          const element = document.querySelector('#df-182f1786-24be-491c-ba45-e8a065154d8a');\n",
              "          const dataTable =\n",
              "            await google.colab.kernel.invokeFunction('convertToInteractive',\n",
              "                                                     [key], {});\n",
              "          if (!dataTable) return;\n",
              "\n",
              "          const docLinkHtml = 'Like what you see? Visit the ' +\n",
              "            '<a target=\"_blank\" href=https://colab.research.google.com/notebooks/data_table.ipynb>data table notebook</a>'\n",
              "            + ' to learn more about interactive tables.';\n",
              "          element.innerHTML = '';\n",
              "          dataTable['output_type'] = 'display_data';\n",
              "          await google.colab.output.renderOutput(dataTable, element);\n",
              "          const docLink = document.createElement('div');\n",
              "          docLink.innerHTML = docLinkHtml;\n",
              "          element.appendChild(docLink);\n",
              "        }\n",
              "      </script>\n",
              "    </div>\n",
              "  </div>\n",
              "  "
            ]
          },
          "metadata": {},
          "execution_count": 7
        }
      ]
    },
    {
      "cell_type": "code",
      "source": [
        "person.isnull().sum()"
      ],
      "metadata": {
        "colab": {
          "base_uri": "https://localhost:8080/"
        },
        "id": "H0p_egSuA89S",
        "outputId": "3155451f-aa60-42bf-d10e-6192b5142f64"
      },
      "execution_count": null,
      "outputs": [
        {
          "output_type": "execute_result",
          "data": {
            "text/plain": [
              "Gender                       0\n",
              "Age                          0\n",
              "openness                     0\n",
              "neuroticism                  0\n",
              "conscientiousness            0\n",
              "agreeableness                0\n",
              "extraversion                 0\n",
              "Personality (Class label)    0\n",
              "dtype: int64"
            ]
          },
          "metadata": {},
          "execution_count": 8
        }
      ]
    },
    {
      "cell_type": "code",
      "source": [
        "person=person.dropna()"
      ],
      "metadata": {
        "id": "FCaTJhOD_wSB"
      },
      "execution_count": null,
      "outputs": []
    },
    {
      "cell_type": "code",
      "source": [
        "person.isnull().sum()"
      ],
      "metadata": {
        "colab": {
          "base_uri": "https://localhost:8080/"
        },
        "id": "JS6vrhAa_1uz",
        "outputId": "e7d5ae00-5649-4a60-92a7-c5e4900cec66"
      },
      "execution_count": null,
      "outputs": [
        {
          "output_type": "execute_result",
          "data": {
            "text/plain": [
              "Gender                       0\n",
              "Age                          0\n",
              "openness                     0\n",
              "neuroticism                  0\n",
              "conscientiousness            0\n",
              "agreeableness                0\n",
              "extraversion                 0\n",
              "Personality (Class label)    0\n",
              "dtype: int64"
            ]
          },
          "metadata": {},
          "execution_count": 10
        }
      ]
    },
    {
      "cell_type": "code",
      "source": [
        "print(person['Personality (Class label)'].unique())"
      ],
      "metadata": {
        "colab": {
          "base_uri": "https://localhost:8080/"
        },
        "id": "ei-oe9UQ_6EM",
        "outputId": "5c19aea1-068c-48ea-ea7a-d5d4c6f8612b"
      },
      "execution_count": null,
      "outputs": [
        {
          "output_type": "stream",
          "name": "stdout",
          "text": [
            "['extraverted' 'serious' 'dependable' 'lively' 'responsible']\n"
          ]
        }
      ]
    },
    {
      "cell_type": "code",
      "source": [
        "print(person['Gender'].unique())"
      ],
      "metadata": {
        "colab": {
          "base_uri": "https://localhost:8080/"
        },
        "id": "cG0MUU_K_6C7",
        "outputId": "b5aa5fe4-20d5-470b-8a01-26a5d97775ca"
      },
      "execution_count": null,
      "outputs": [
        {
          "output_type": "stream",
          "name": "stdout",
          "text": [
            "['Male' 'Female']\n"
          ]
        }
      ]
    },
    {
      "cell_type": "code",
      "source": [
        "person.replace({'Personality (Class label)':{'extraverted':0,'serious':1,'dependable':2,'lively':3,'responsible':4}},inplace=True)\n",
        "person.replace({'Gender':{'Male':0,'Female':1}},inplace=True)"
      ],
      "metadata": {
        "id": "zvZC8EkmByTK"
      },
      "execution_count": null,
      "outputs": []
    },
    {
      "cell_type": "code",
      "source": [
        "person.head()"
      ],
      "metadata": {
        "id": "xWQzNhZKGQ9O",
        "colab": {
          "base_uri": "https://localhost:8080/",
          "height": 268
        },
        "outputId": "94dbaad6-09c2-4b51-c856-f7d92bc012dd"
      },
      "execution_count": null,
      "outputs": [
        {
          "output_type": "execute_result",
          "data": {
            "text/plain": [
              "   Gender  Age  openness  neuroticism  conscientiousness  agreeableness  \\\n",
              "0       0   17         7            4                  7              3   \n",
              "1       0   19         4            5                  4              6   \n",
              "2       1   18         7            6                  4              5   \n",
              "3       1   22         5            6                  7              4   \n",
              "4       1   19         7            4                  6              5   \n",
              "\n",
              "   extraversion  Personality (Class label)  \n",
              "0             2                          0  \n",
              "1             6                          1  \n",
              "2             5                          2  \n",
              "3             3                          0  \n",
              "4             4                          3  "
            ],
            "text/html": [
              "\n",
              "  <div id=\"df-e5b20003-4dfd-4f7c-b88f-48c4f5a3bf9e\">\n",
              "    <div class=\"colab-df-container\">\n",
              "      <div>\n",
              "<style scoped>\n",
              "    .dataframe tbody tr th:only-of-type {\n",
              "        vertical-align: middle;\n",
              "    }\n",
              "\n",
              "    .dataframe tbody tr th {\n",
              "        vertical-align: top;\n",
              "    }\n",
              "\n",
              "    .dataframe thead th {\n",
              "        text-align: right;\n",
              "    }\n",
              "</style>\n",
              "<table border=\"1\" class=\"dataframe\">\n",
              "  <thead>\n",
              "    <tr style=\"text-align: right;\">\n",
              "      <th></th>\n",
              "      <th>Gender</th>\n",
              "      <th>Age</th>\n",
              "      <th>openness</th>\n",
              "      <th>neuroticism</th>\n",
              "      <th>conscientiousness</th>\n",
              "      <th>agreeableness</th>\n",
              "      <th>extraversion</th>\n",
              "      <th>Personality (Class label)</th>\n",
              "    </tr>\n",
              "  </thead>\n",
              "  <tbody>\n",
              "    <tr>\n",
              "      <th>0</th>\n",
              "      <td>0</td>\n",
              "      <td>17</td>\n",
              "      <td>7</td>\n",
              "      <td>4</td>\n",
              "      <td>7</td>\n",
              "      <td>3</td>\n",
              "      <td>2</td>\n",
              "      <td>0</td>\n",
              "    </tr>\n",
              "    <tr>\n",
              "      <th>1</th>\n",
              "      <td>0</td>\n",
              "      <td>19</td>\n",
              "      <td>4</td>\n",
              "      <td>5</td>\n",
              "      <td>4</td>\n",
              "      <td>6</td>\n",
              "      <td>6</td>\n",
              "      <td>1</td>\n",
              "    </tr>\n",
              "    <tr>\n",
              "      <th>2</th>\n",
              "      <td>1</td>\n",
              "      <td>18</td>\n",
              "      <td>7</td>\n",
              "      <td>6</td>\n",
              "      <td>4</td>\n",
              "      <td>5</td>\n",
              "      <td>5</td>\n",
              "      <td>2</td>\n",
              "    </tr>\n",
              "    <tr>\n",
              "      <th>3</th>\n",
              "      <td>1</td>\n",
              "      <td>22</td>\n",
              "      <td>5</td>\n",
              "      <td>6</td>\n",
              "      <td>7</td>\n",
              "      <td>4</td>\n",
              "      <td>3</td>\n",
              "      <td>0</td>\n",
              "    </tr>\n",
              "    <tr>\n",
              "      <th>4</th>\n",
              "      <td>1</td>\n",
              "      <td>19</td>\n",
              "      <td>7</td>\n",
              "      <td>4</td>\n",
              "      <td>6</td>\n",
              "      <td>5</td>\n",
              "      <td>4</td>\n",
              "      <td>3</td>\n",
              "    </tr>\n",
              "  </tbody>\n",
              "</table>\n",
              "</div>\n",
              "      <button class=\"colab-df-convert\" onclick=\"convertToInteractive('df-e5b20003-4dfd-4f7c-b88f-48c4f5a3bf9e')\"\n",
              "              title=\"Convert this dataframe to an interactive table.\"\n",
              "              style=\"display:none;\">\n",
              "        \n",
              "  <svg xmlns=\"http://www.w3.org/2000/svg\" height=\"24px\"viewBox=\"0 0 24 24\"\n",
              "       width=\"24px\">\n",
              "    <path d=\"M0 0h24v24H0V0z\" fill=\"none\"/>\n",
              "    <path d=\"M18.56 5.44l.94 2.06.94-2.06 2.06-.94-2.06-.94-.94-2.06-.94 2.06-2.06.94zm-11 1L8.5 8.5l.94-2.06 2.06-.94-2.06-.94L8.5 2.5l-.94 2.06-2.06.94zm10 10l.94 2.06.94-2.06 2.06-.94-2.06-.94-.94-2.06-.94 2.06-2.06.94z\"/><path d=\"M17.41 7.96l-1.37-1.37c-.4-.4-.92-.59-1.43-.59-.52 0-1.04.2-1.43.59L10.3 9.45l-7.72 7.72c-.78.78-.78 2.05 0 2.83L4 21.41c.39.39.9.59 1.41.59.51 0 1.02-.2 1.41-.59l7.78-7.78 2.81-2.81c.8-.78.8-2.07 0-2.86zM5.41 20L4 18.59l7.72-7.72 1.47 1.35L5.41 20z\"/>\n",
              "  </svg>\n",
              "      </button>\n",
              "      \n",
              "  <style>\n",
              "    .colab-df-container {\n",
              "      display:flex;\n",
              "      flex-wrap:wrap;\n",
              "      gap: 12px;\n",
              "    }\n",
              "\n",
              "    .colab-df-convert {\n",
              "      background-color: #E8F0FE;\n",
              "      border: none;\n",
              "      border-radius: 50%;\n",
              "      cursor: pointer;\n",
              "      display: none;\n",
              "      fill: #1967D2;\n",
              "      height: 32px;\n",
              "      padding: 0 0 0 0;\n",
              "      width: 32px;\n",
              "    }\n",
              "\n",
              "    .colab-df-convert:hover {\n",
              "      background-color: #E2EBFA;\n",
              "      box-shadow: 0px 1px 2px rgba(60, 64, 67, 0.3), 0px 1px 3px 1px rgba(60, 64, 67, 0.15);\n",
              "      fill: #174EA6;\n",
              "    }\n",
              "\n",
              "    [theme=dark] .colab-df-convert {\n",
              "      background-color: #3B4455;\n",
              "      fill: #D2E3FC;\n",
              "    }\n",
              "\n",
              "    [theme=dark] .colab-df-convert:hover {\n",
              "      background-color: #434B5C;\n",
              "      box-shadow: 0px 1px 3px 1px rgba(0, 0, 0, 0.15);\n",
              "      filter: drop-shadow(0px 1px 2px rgba(0, 0, 0, 0.3));\n",
              "      fill: #FFFFFF;\n",
              "    }\n",
              "  </style>\n",
              "\n",
              "      <script>\n",
              "        const buttonEl =\n",
              "          document.querySelector('#df-e5b20003-4dfd-4f7c-b88f-48c4f5a3bf9e button.colab-df-convert');\n",
              "        buttonEl.style.display =\n",
              "          google.colab.kernel.accessAllowed ? 'block' : 'none';\n",
              "\n",
              "        async function convertToInteractive(key) {\n",
              "          const element = document.querySelector('#df-e5b20003-4dfd-4f7c-b88f-48c4f5a3bf9e');\n",
              "          const dataTable =\n",
              "            await google.colab.kernel.invokeFunction('convertToInteractive',\n",
              "                                                     [key], {});\n",
              "          if (!dataTable) return;\n",
              "\n",
              "          const docLinkHtml = 'Like what you see? Visit the ' +\n",
              "            '<a target=\"_blank\" href=https://colab.research.google.com/notebooks/data_table.ipynb>data table notebook</a>'\n",
              "            + ' to learn more about interactive tables.';\n",
              "          element.innerHTML = '';\n",
              "          dataTable['output_type'] = 'display_data';\n",
              "          await google.colab.output.renderOutput(dataTable, element);\n",
              "          const docLink = document.createElement('div');\n",
              "          docLink.innerHTML = docLinkHtml;\n",
              "          element.appendChild(docLink);\n",
              "        }\n",
              "      </script>\n",
              "    </div>\n",
              "  </div>\n",
              "  "
            ]
          },
          "metadata": {},
          "execution_count": 23
        }
      ]
    },
    {
      "cell_type": "code",
      "source": [
        "x=person.drop(columns='Personality (Class label)',axis=1)\n",
        "y=person['Personality (Class label)']"
      ],
      "metadata": {
        "id": "V4z1Oi1_DZV6"
      },
      "execution_count": null,
      "outputs": []
    },
    {
      "cell_type": "code",
      "source": [
        "from sklearn.model_selection import train_test_split\n",
        "x_train, x_test, y_train, y_test=train_test_split(x,y,random_state=0)"
      ],
      "metadata": {
        "id": "xSu9jy4fDu0n"
      },
      "execution_count": null,
      "outputs": []
    },
    {
      "cell_type": "code",
      "source": [
        "print(x)"
      ],
      "metadata": {
        "colab": {
          "base_uri": "https://localhost:8080/"
        },
        "id": "9kBjqNeip6A4",
        "outputId": "e29afa9a-a5ca-48e8-e032-465600d0da22"
      },
      "execution_count": null,
      "outputs": [
        {
          "output_type": "stream",
          "name": "stdout",
          "text": [
            "     Gender  Age  openness  neuroticism  conscientiousness  agreeableness  \\\n",
            "0         0   17         7            4                  7              3   \n",
            "1         0   19         4            5                  4              6   \n",
            "2         1   18         7            6                  4              5   \n",
            "3         1   22         5            6                  7              4   \n",
            "4         1   19         7            4                  6              5   \n",
            "..      ...  ...       ...          ...                ...            ...   \n",
            "704       1   20         4            5                  6              6   \n",
            "705       0   18         6            3                  1              5   \n",
            "706       0   22         5            2                  3              6   \n",
            "707       0   19         5            6                  5              7   \n",
            "708       1   18         5            5                  7              6   \n",
            "\n",
            "     extraversion  \n",
            "0               2  \n",
            "1               6  \n",
            "2               5  \n",
            "3               3  \n",
            "4               4  \n",
            "..            ...  \n",
            "704             1  \n",
            "705             5  \n",
            "706             1  \n",
            "707             5  \n",
            "708             5  \n",
            "\n",
            "[709 rows x 7 columns]\n"
          ]
        }
      ]
    },
    {
      "cell_type": "code",
      "source": [
        "print(y)"
      ],
      "metadata": {
        "colab": {
          "base_uri": "https://localhost:8080/"
        },
        "id": "EBfvKzwMp7-o",
        "outputId": "09d4cfa6-ef3e-44f3-8a5c-aeb5f59ba8e1"
      },
      "execution_count": null,
      "outputs": [
        {
          "output_type": "stream",
          "name": "stdout",
          "text": [
            "0      0\n",
            "1      1\n",
            "2      2\n",
            "3      0\n",
            "4      3\n",
            "      ..\n",
            "704    4\n",
            "705    2\n",
            "706    1\n",
            "707    0\n",
            "708    0\n",
            "Name: Personality (Class label), Length: 709, dtype: int64\n"
          ]
        }
      ]
    },
    {
      "cell_type": "code",
      "source": [
        "from sklearn.preprocessing import StandardScaler\n",
        "scaler=StandardScaler()\n",
        "x_train=scaler.fit_transform(x_train)\n",
        "x_test=scaler.fit_transform(x_test)"
      ],
      "metadata": {
        "id": "yYNrFpTJDzzR"
      },
      "execution_count": null,
      "outputs": []
    },
    {
      "cell_type": "code",
      "source": [
        "print(x)"
      ],
      "metadata": {
        "colab": {
          "base_uri": "https://localhost:8080/"
        },
        "id": "uonK4ffmFTrq",
        "outputId": "3f5ce7ce-68a5-4cf2-aa21-5a037fbe69a8"
      },
      "execution_count": null,
      "outputs": [
        {
          "output_type": "stream",
          "name": "stdout",
          "text": [
            "     Gender  Age  openness  neuroticism  conscientiousness  agreeableness  \\\n",
            "0         0   17         7            4                  7              3   \n",
            "1         0   19         4            5                  4              6   \n",
            "2         1   18         7            6                  4              5   \n",
            "3         1   22         5            6                  7              4   \n",
            "4         1   19         7            4                  6              5   \n",
            "..      ...  ...       ...          ...                ...            ...   \n",
            "704       1   20         4            5                  6              6   \n",
            "705       0   18         6            3                  1              5   \n",
            "706       0   22         5            2                  3              6   \n",
            "707       0   19         5            6                  5              7   \n",
            "708       1   18         5            5                  7              6   \n",
            "\n",
            "     extraversion  \n",
            "0               2  \n",
            "1               6  \n",
            "2               5  \n",
            "3               3  \n",
            "4               4  \n",
            "..            ...  \n",
            "704             1  \n",
            "705             5  \n",
            "706             1  \n",
            "707             5  \n",
            "708             5  \n",
            "\n",
            "[709 rows x 7 columns]\n"
          ]
        }
      ]
    },
    {
      "cell_type": "code",
      "source": [
        "print(y)"
      ],
      "metadata": {
        "colab": {
          "base_uri": "https://localhost:8080/"
        },
        "id": "W7jSIt7WFV-e",
        "outputId": "798aba77-1f4a-4a05-d770-d04a5d3e5ede"
      },
      "execution_count": null,
      "outputs": [
        {
          "output_type": "stream",
          "name": "stdout",
          "text": [
            "0      0\n",
            "1      1\n",
            "2      2\n",
            "3      0\n",
            "4      3\n",
            "      ..\n",
            "704    4\n",
            "705    2\n",
            "706    1\n",
            "707    0\n",
            "708    0\n",
            "Name: Personality (Class label), Length: 709, dtype: int64\n"
          ]
        }
      ]
    },
    {
      "cell_type": "code",
      "source": [
        "from sklearn.linear_model import LinearRegression\n",
        "linreg=LinearRegression()\n",
        "linreg.fit(x_train,y_train)\n",
        "print('Accurracy of  linear regression classifier on training set:{:.2f}'.format(linreg.score(x_train,y_train)))"
      ],
      "metadata": {
        "colab": {
          "base_uri": "https://localhost:8080/"
        },
        "id": "smg5EtqqD7m8",
        "outputId": "4b23e17f-bafc-4a42-8408-d30b9d27d345"
      },
      "execution_count": null,
      "outputs": [
        {
          "output_type": "stream",
          "name": "stdout",
          "text": [
            "Accurracy of  linear regression classifier on training set:0.03\n"
          ]
        }
      ]
    },
    {
      "cell_type": "code",
      "source": [
        "print('Accuarcy of logistic regression classifier on test set:{:.2f}'.format(linreg.score(x_test,y_test)))"
      ],
      "metadata": {
        "id": "Vlf_E9O4D-rI",
        "colab": {
          "base_uri": "https://localhost:8080/"
        },
        "outputId": "2a92b450-c081-4cb1-e491-fc2a2a82be04"
      },
      "execution_count": null,
      "outputs": [
        {
          "output_type": "stream",
          "name": "stdout",
          "text": [
            "Accuarcy of logistic regression classifier on test set:-0.05\n"
          ]
        }
      ]
    },
    {
      "cell_type": "code",
      "source": [
        "from sklearn.ensemble import RandomForestRegressor\n",
        "regressor=RandomForestRegressor()\n",
        "regressor.fit(x_train,y_train)\n",
        "print('Accurracy of  random forest regression classifier on training set:{:.2f}'.format(regressor.score(x_train,y_train)))"
      ],
      "metadata": {
        "id": "ird9FQmSEBrF",
        "colab": {
          "base_uri": "https://localhost:8080/"
        },
        "outputId": "30b90f2d-a93a-44d0-f962-c7a9ff6f72ec"
      },
      "execution_count": null,
      "outputs": [
        {
          "output_type": "stream",
          "name": "stdout",
          "text": [
            "Accurracy of  random forest regression classifier on training set:0.85\n"
          ]
        }
      ]
    }
  ]
}